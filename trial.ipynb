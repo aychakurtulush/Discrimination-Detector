{
 "cells": [
  {
   "cell_type": "code",
   "execution_count": 1,
   "id": "8c85cc67",
   "metadata": {},
   "outputs": [],
   "source": [
    "import nltk\n",
    "import csv\n",
    "\n",
    "# Load a list of discriminatory words and their categories\n",
    "discriminatory_words = {}\n",
    "with open('Data/discriminatory_words.csv') as f:\n",
    "    reader = csv.reader(f)\n",
    "    for row in reader:\n",
    "        word = row[0]\n",
    "        category = row[1]\n",
    "        discriminatory_words[word] = category\n"
   ]
  },
  {
   "cell_type": "code",
   "execution_count": 2,
   "id": "710d1b33",
   "metadata": {},
   "outputs": [],
   "source": [
    "# Tokenize the input text\n",
    "text = 'This is a discriminatory sentence that contains the word \"girly\".'\n",
    "tokens = nltk.word_tokenize(text)\n",
    "\n"
   ]
  },
  {
   "cell_type": "code",
   "execution_count": 3,
   "id": "3c0a7d84",
   "metadata": {},
   "outputs": [],
   "source": [
    "# Identify the discriminatory words in the input text\n",
    "discriminatory_tokens = []\n",
    "for token in tokens:\n",
    "    if token.lower() in discriminatory_words:\n",
    "        discriminatory_tokens.append(token.lower())\n",
    "\n"
   ]
  },
  {
   "cell_type": "code",
   "execution_count": 4,
   "id": "33f1c074",
   "metadata": {},
   "outputs": [],
   "source": [
    "# Determine the discriminatory category\n",
    "categories = []\n",
    "for token in discriminatory_tokens:\n",
    "    category = discriminatory_words[token]\n",
    "    categories.append(category)\n",
    "\n"
   ]
  },
  {
   "cell_type": "code",
   "execution_count": 5,
   "id": "98bf7ad5",
   "metadata": {},
   "outputs": [],
   "source": [
    "# Calculate the level of discrimination\n",
    "discrimination_level = len(discriminatory_tokens) / len(tokens)\n"
   ]
  },
  {
   "cell_type": "code",
   "execution_count": 6,
   "id": "3dbb6af4",
   "metadata": {},
   "outputs": [
    {
     "data": {
      "text/plain": [
       "\"\\n# Calculate the negativity score\\nnegative_count = 0\\nfor token in discriminatory_tokens:\\n    if discriminatory_words[token] == 'negative':\\n        negative_count += 1\\nnegativity_score = negative_count / len(discriminatory_tokens)\\n\\n\""
      ]
     },
     "execution_count": 6,
     "metadata": {},
     "output_type": "execute_result"
    }
   ],
   "source": [
    "'''\n",
    "# Calculate the negativity score\n",
    "negative_count = 0\n",
    "for token in discriminatory_tokens:\n",
    "    if discriminatory_words[token] == 'negative':\n",
    "        negative_count += 1\n",
    "negativity_score = negative_count / len(discriminatory_tokens)\n",
    "\n",
    "'''"
   ]
  },
  {
   "cell_type": "code",
   "execution_count": 7,
   "id": "80ca1cd4",
   "metadata": {},
   "outputs": [
    {
     "name": "stdout",
     "output_type": "stream",
     "text": [
      "Discriminatory tokens: []\n",
      "Categories: []\n",
      "Discrimination level: 0.0\n"
     ]
    }
   ],
   "source": [
    "# Print the results\n",
    "print('Discriminatory tokens:', discriminatory_tokens)\n",
    "print('Categories:', categories)\n",
    "print('Discrimination level:', discrimination_level)\n",
    "#print('Negativity score:', negativity_score)\n"
   ]
  },
  {
   "cell_type": "code",
   "execution_count": null,
   "id": "c993af7f",
   "metadata": {},
   "outputs": [],
   "source": []
  }
 ],
 "metadata": {
  "kernelspec": {
   "display_name": "Python 3 (ipykernel)",
   "language": "python",
   "name": "python3"
  },
  "language_info": {
   "codemirror_mode": {
    "name": "ipython",
    "version": 3
   },
   "file_extension": ".py",
   "mimetype": "text/x-python",
   "name": "python",
   "nbconvert_exporter": "python",
   "pygments_lexer": "ipython3",
   "version": "3.9.13"
  }
 },
 "nbformat": 4,
 "nbformat_minor": 5
}
