{
 "cells": [
  {
   "cell_type": "code",
   "execution_count": 1,
   "id": "6861566b",
   "metadata": {},
   "outputs": [],
   "source": [
    "import snscrape.modules.twitter as sntwitter\n",
    "import pandas as pd\n",
    "from tqdm.notebook import tqdm"
   ]
  },
  {
   "cell_type": "code",
   "execution_count": 2,
   "id": "108d2b7e",
   "metadata": {},
   "outputs": [],
   "source": [
    "# Create an empty DataFrame\n",
    "df = pd.DataFrame()"
   ]
  },
  {
   "cell_type": "code",
   "execution_count": null,
   "id": "d5d3a638",
   "metadata": {},
   "outputs": [
    {
     "data": {
      "application/vnd.jupyter.widget-view+json": {
       "model_id": "a7f36c81f44d442ca690d9e173f35c44",
       "version_major": 2,
       "version_minor": 0
      },
      "text/plain": [
       "  0%|          | 0/100000 [00:00<?, ?it/s]"
      ]
     },
     "metadata": {},
     "output_type": "display_data"
    },
    {
     "name": "stderr",
     "output_type": "stream",
     "text": [
      "C:\\Users\\kurtu\\AppData\\Local\\Temp\\ipykernel_2376\\421456411.py:6: DeprecatedFeatureWarning: content is deprecated, use rawContent instead\n",
      "  data = [tweet.date, tweet.id, tweet.content, tweet.likeCount, tweet.retweetCount]\n"
     ]
    }
   ],
   "source": [
    "n_tweets = 100000\n",
    "\n",
    "tweets = []\n",
    "scraper = sntwitter.TwitterSearchScraper('the')\n",
    "for j, tweet in tqdm(enumerate(scraper.get_items()), total=n_tweets):\n",
    "    data = [tweet.date, tweet.id, tweet.content, tweet.likeCount, tweet.retweetCount]\n",
    "    tweets.append(data)\n",
    "    if j >= n_tweets:\n",
    "        break\n",
    "\n",
    "df = pd.DataFrame(tweets, columns=['date', 'id', 'content', 'likes', 'retweets'])\n",
    "df = df.assign(disc_cat='control')\n"
   ]
  },
  {
   "cell_type": "code",
   "execution_count": null,
   "id": "7f6fc2c0",
   "metadata": {},
   "outputs": [],
   "source": [
    "df"
   ]
  },
  {
   "cell_type": "code",
   "execution_count": null,
   "id": "c37349eb",
   "metadata": {},
   "outputs": [],
   "source": []
  }
 ],
 "metadata": {
  "kernelspec": {
   "display_name": "Python 3 (ipykernel)",
   "language": "python",
   "name": "python3"
  },
  "language_info": {
   "codemirror_mode": {
    "name": "ipython",
    "version": 3
   },
   "file_extension": ".py",
   "mimetype": "text/x-python",
   "name": "python",
   "nbconvert_exporter": "python",
   "pygments_lexer": "ipython3",
   "version": "3.9.13"
  }
 },
 "nbformat": 4,
 "nbformat_minor": 5
}
