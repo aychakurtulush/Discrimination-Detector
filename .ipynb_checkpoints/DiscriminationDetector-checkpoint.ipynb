{
 "cells": [
  {
   "cell_type": "code",
   "execution_count": 1,
   "id": "2bb3c068",
   "metadata": {},
   "outputs": [],
   "source": [
    "sex_discriminatory_words = [\n",
    "    \"bitch\", \"whore\", \"slut\", \"cunt\", \"ho\", \"wench\", \"skank\", \"tart\", \"floozy\", \"prostitute\", \n",
    "    \"call girl\", \"streetwalker\", \"escort\", \"hooker\", \"gold digger\", \"slag\", \"tramp\", \"harlot\", \"madam\", \n",
    "    \"lady of the night\", \"mistress\", \"sugar baby\", \"beard\", \"chick\", \"bird\", \"doll\", \"babe\", \"fox\", \n",
    "    \"cutie\", \"hottie\", \"piece of ass\", \"eye candy\", \"trophy wife\", \"sex kitten\", \"man-whore\", \"gigolo\", \n",
    "    \"male escort\", \"sugar daddy\", \"john\", \"pimp\", \"player\", \"stud\", \"womanizer\", \"slayer\", \"Don Juan\", \n",
    "    \"Casanova\", \"pick-up artist\", \"seduction community\", \"incel\", \"volcel\", \"MGTOW\", \"PUA\", \"red pill\", \n",
    "    \"blue pill\", \"friendzone\", \"nice guy\", \"alpha\", \"beta\", \"omega\", \"hypergamy\", \"feminazi\", \"misandrist\", \n",
    "    \"misogynist\", \"toxic masculinity\", \"fragile masculinity\", \"mansplain\", \"manterrupt\", \"hepeating\", \n",
    "    \"manspread\", \"bro\", \"dude\", \"guy\", \"man\"\n",
    "]"
   ]
  },
  {
   "cell_type": "code",
   "execution_count": 2,
   "id": "aa7ff0ef",
   "metadata": {},
   "outputs": [],
   "source": [
    "gender_discriminatory_words = [\n",
    "    \"fag\", \"dyke\", \"tranny\", \"shemale\", \"chick with a dick\", \"he-she\", \"it\", \"sissy\", \"butch\", \"queer\", \n",
    "    \"homo\", \"gay\", \"lesbo\", \"lesbian\", \"bisexual\", \"pansexual\", \"asexual\", \"aromantic\", \"non-binary\", \n",
    "    \"genderqueer\", \"genderfluid\", \"transgender\", \"transvestite\", \"crossdresser\",\n",
    "    \"bitch\", \"slut\", \"whore\", \"prostitute\", \"harlot\", \"hooker\", \"skank\", \"tramp\", \"gold digger\", \n",
    "    \"ho bag\", \"cum dumpster\", \"cock tease\", \"man hater\", \"ball buster\", \"nag\", \"shrew\", \"virgin\", \n",
    "    \"prude\", \"dyke\", \"fag\", \"faggot\", \"sissy\", \"emasculated\", \"emasculate\", \"sissies\", \"effeminate\", \n",
    "    \"effeminate man\", \"masculine woman\", \"manly woman\", \"tomboy\", \"butch\", \"girly\", \"manly girl\", \n",
    "    \"girly man\"\n",
    "]"
   ]
  },
  {
   "cell_type": "code",
   "execution_count": 3,
   "id": "3008b2fe",
   "metadata": {},
   "outputs": [],
   "source": [
    "race_discriminatory_words = [\n",
    "    \"n-word\", \"spic\", \"chink\", \"wetback\", \"jap\", \"kike\", \"raghead\", \"gook\", \"cracker\", \"honky\", \"redneck\", \n",
    "    \"white trash\", \"hillbilly\", \"coon\", \"sambo\", \"boy\", \"mammy\", \"darkie\", \"half-breed\", \"mulatto\", \"octoroon\", \n",
    "    \"quadroon\", \"yellow\", \"curry muncher\", \"abo\", \"gyppo\", \"wog\", \"pikey\", \"gypsy\", \"tinker\", \"papist\", \n",
    "    \"heathen\", \"infidel\", \"crusader\", \"pagan\"\n",
    "]"
   ]
  },
  {
   "cell_type": "code",
   "execution_count": 4,
   "id": "48f7efdc",
   "metadata": {},
   "outputs": [],
   "source": [
    "health_discriminatory_words = [\n",
    "    \"crazy\", \"lunatic\", \"psycho\", \"nutjob\", \"schizo\", \"retarded\", \"handicapped\", \"invalid\", \"cripple\", \n",
    "    \"midget\", \"dwarf\", \"giant\", \"obese\", \"anorexic\", \"bulimic\", \"cancer stick\", \"crippled\", \"spastic\", \n",
    "    \"epileptic\", \"insane\", \"mad\", \"insane asylum\", \"loony bin\", \"nut house\", \"funny farm\", \"sanitarium\", \n",
    "    \"booby hatch\", \"rubber room\", \"straightjacket\", \"mental institution\", \"mental hospital\", \"snake pit\"\n",
    "]"
   ]
  },
  {
   "cell_type": "code",
   "execution_count": 5,
   "id": "e080abd9",
   "metadata": {},
   "outputs": [],
   "source": [
    "mental_health_discriminatory_words = [\n",
    "    \"crazy\", \"lunatic\", \"psycho\", \"nutjob\", \"schizo\", \"retarded\", \"insane\", \"mad\", \"insane asylum\", \n",
    "    \"loony bin\", \"nut house\", \"funny farm\", \"sanitarium\", \"booby hatch\", \"rubber room\", \"straightjacket\", \n",
    "    \"mental institution\", \"mental hospital\", \"snake pit\", \"depressed\", \"anxious\", \"bipolar\", \"manic\", \n",
    "    \"schizophrenic\", \"borderline\", \"narcissistic\", \"antisocial\", \"OCD\", \"PTSD\", \"ADHD\", \"autistic\", \n",
    "    \"sociopath\", \"psychopath\", \"crazy person\", \"insane person\", \"lunatic person\", \"mental patient\", \n",
    "    \"madman\", \"madwoman\", \"crazy lady\", \"crazy guy\", \"crazy person\", \"psycho killer\", \"maniac\", \"lunatic fringe\"\n",
    "]"
   ]
  },
  {
   "cell_type": "code",
   "execution_count": 6,
   "id": "6f0754c3",
   "metadata": {},
   "outputs": [],
   "source": [
    "# Combine the lists into a single list\n",
    "discriminatory_words = {'sex': sex_discriminatory_words, 'gender' : gender_discriminatory_words, 'race' : race_discriminatory_words, 'health' : health_discriminatory_words, 'mental_health' : mental_health_discriminatory_words}"
   ]
  },
  {
   "cell_type": "code",
   "execution_count": 7,
   "id": "b198c2ed",
   "metadata": {},
   "outputs": [],
   "source": [
    "# pip install git+https://github.com/JustAnotherArchivist/snscrape.git"
   ]
  },
  {
   "cell_type": "code",
   "execution_count": 8,
   "id": "d4ef92ee",
   "metadata": {},
   "outputs": [],
   "source": [
    "import snscrape.modules.twitter as sntwitter\n",
    "import pandas as pd\n",
    "from tqdm.notebook import tqdm"
   ]
  },
  {
   "cell_type": "code",
   "execution_count": 9,
   "id": "c9778aa2",
   "metadata": {},
   "outputs": [],
   "source": [
    "# Create an empty DataFrame\n",
    "df = pd.DataFrame()"
   ]
  },
  {
   "cell_type": "code",
   "execution_count": null,
   "id": "cafeb863",
   "metadata": {
    "scrolled": true
   },
   "outputs": [
    {
     "name": "stderr",
     "output_type": "stream",
     "text": [
      "  0%|          | 0/500 [00:00<?, ?it/s]C:\\Users\\kurtu\\AppData\\Local\\Temp\\ipykernel_23044\\2794090894.py:18: DeprecatedFeatureWarning: content is deprecated, use rawContent instead\n",
      "  data = [tweet.date, tweet.id, tweet.content, tweet.likeCount, tweet.retweetCount]\n",
      "100%|██████████| 500/500 [00:24<00:00, 20.29it/s]\n",
      "  0%|          | 0/500 [00:00<?, ?it/s]C:\\Users\\kurtu\\AppData\\Local\\Temp\\ipykernel_23044\\2794090894.py:18: DeprecatedFeatureWarning: content is deprecated, use rawContent instead\n",
      "  data = [tweet.date, tweet.id, tweet.content, tweet.likeCount, tweet.retweetCount]\n",
      "100%|██████████| 500/500 [00:26<00:00, 18.57it/s]\n",
      "  0%|          | 0/500 [00:00<?, ?it/s]C:\\Users\\kurtu\\AppData\\Local\\Temp\\ipykernel_23044\\2794090894.py:18: DeprecatedFeatureWarning: content is deprecated, use rawContent instead\n",
      "  data = [tweet.date, tweet.id, tweet.content, tweet.likeCount, tweet.retweetCount]\n",
      " 30%|██▉       | 149/500 [00:10<00:23, 14.67it/s]"
     ]
    }
   ],
   "source": [
    "import pandas as pd\n",
    "import snscrape.modules.twitter as sntwitter\n",
    "from tqdm import tqdm\n",
    "\n",
    "\n",
    "# Create an empty dictionary to store DataFrames\n",
    "dfs = {}\n",
    "\n",
    "n_tweets = 500\n",
    "\n",
    "for i in discriminatory_words.keys():\n",
    "    attributes = discriminatory_words[i]\n",
    "    # Loop through the attributes and scrape tweets for each one\n",
    "    for attr in attributes:\n",
    "        tweets = []\n",
    "        scraper = sntwitter.TwitterSearchScraper(attr)\n",
    "        for j, tweet in tqdm(enumerate(scraper.get_items()), total=n_tweets):\n",
    "            data = [tweet.date, tweet.id, tweet.content, tweet.likeCount, tweet.retweetCount]\n",
    "            tweets.append(data)\n",
    "            if j >= n_tweets:\n",
    "                break\n",
    "        df_name = f\"df_{attr}\"\n",
    "        dfs[df_name] = pd.DataFrame(tweets, columns=['date', 'id', 'content', 'likes', 'retweets'])\n",
    "        dfs[df_name] = dfs[df_name].assign(disc_cat=i)\n",
    "\n",
    "# Concatenate all DataFrames into a single one\n",
    "df = pd.concat(dfs.values(), axis=0)\n"
   ]
  },
  {
   "cell_type": "code",
   "execution_count": null,
   "id": "9d2cc9ed",
   "metadata": {
    "scrolled": false
   },
   "outputs": [],
   "source": [
    "df"
   ]
  },
  {
   "cell_type": "code",
   "execution_count": null,
   "id": "9ae284d8",
   "metadata": {},
   "outputs": [],
   "source": [
    "df.to_csv('tweet.csv')"
   ]
  },
  {
   "cell_type": "code",
   "execution_count": null,
   "id": "4b831bd1",
   "metadata": {},
   "outputs": [],
   "source": []
  }
 ],
 "metadata": {
  "kernelspec": {
   "display_name": "Python 3 (ipykernel)",
   "language": "python",
   "name": "python3"
  },
  "language_info": {
   "codemirror_mode": {
    "name": "ipython",
    "version": 3
   },
   "file_extension": ".py",
   "mimetype": "text/x-python",
   "name": "python",
   "nbconvert_exporter": "python",
   "pygments_lexer": "ipython3",
   "version": "3.9.13"
  }
 },
 "nbformat": 4,
 "nbformat_minor": 5
}
