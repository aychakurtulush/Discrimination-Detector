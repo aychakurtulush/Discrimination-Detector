{
 "cells": [
  {
   "cell_type": "code",
   "execution_count": 1,
   "id": "4131f1d3",
   "metadata": {},
   "outputs": [],
   "source": [
    "sex_discriminatory_words = [\n",
    "    \"bitch\", \"whore\", \"slut\", \"cunt\", \"ho\", \"wench\", \"skank\", \"tart\", \"floozy\", \"prostitute\", \n",
    "    \"call girl\", \"streetwalker\", \"escort\", \"hooker\", \"gold digger\", \"slag\", \"tramp\", \"harlot\", \"madam\", \n",
    "    \"lady of the night\", \"mistress\", \"sugar baby\", \"beard\", \"chick\", \"bird\", \"doll\", \"babe\", \"fox\", \n",
    "    \"cutie\", \"hottie\", \"piece of ass\", \"eye candy\", \"trophy wife\", \"sex kitten\", \"man-whore\", \"gigolo\", \n",
    "    \"male escort\", \"sugar daddy\", \"john\", \"pimp\", \"player\", \"stud\", \"womanizer\", \"slayer\", \"Don Juan\", \n",
    "    \"Casanova\", \"pick-up artist\", \"seduction community\", \"incel\", \"volcel\", \"MGTOW\", \"PUA\", \"red pill\", \n",
    "    \"blue pill\", \"friendzone\", \"nice guy\", \"alpha\", \"beta\", \"omega\", \"hypergamy\", \"feminazi\", \"misandrist\", \n",
    "    \"misogynist\", \"toxic masculinity\", \"fragile masculinity\", \"mansplain\", \"manterrupt\", \"hepeating\", \n",
    "    \"manspread\", \"bro\", \"dude\", \"guy\", \"man\"\n",
    "]"
   ]
  },
  {
   "cell_type": "code",
   "execution_count": 2,
   "id": "b8e56a3a",
   "metadata": {},
   "outputs": [],
   "source": [
    "gender_discriminatory_words = [\n",
    "    \"fag\", \"dyke\", \"tranny\", \"shemale\", \"chick with a dick\", \"he-she\", \"it\", \"sissy\", \"butch\", \"queer\", \n",
    "    \"homo\", \"gay\", \"lesbo\", \"lesbian\", \"bisexual\", \"pansexual\", \"asexual\", \"aromantic\", \"non-binary\", \n",
    "    \"genderqueer\", \"genderfluid\", \"transgender\", \"transvestite\", \"crossdresser\",\n",
    "    \"bitch\", \"slut\", \"whore\", \"prostitute\", \"harlot\", \"hooker\", \"skank\", \"tramp\", \"gold digger\", \n",
    "    \"ho bag\", \"cum dumpster\", \"cock tease\", \"man hater\", \"ball buster\", \"nag\", \"shrew\", \"virgin\", \n",
    "    \"prude\", \"dyke\", \"fag\", \"faggot\", \"sissy\", \"emasculated\", \"emasculate\", \"sissies\", \"effeminate\", \n",
    "    \"effeminate man\", \"masculine woman\", \"manly woman\", \"tomboy\", \"butch\", \"girly\", \"manly girl\", \n",
    "    \"girly man\"\n",
    "]"
   ]
  },
  {
   "cell_type": "code",
   "execution_count": 3,
   "id": "44c04df1",
   "metadata": {},
   "outputs": [],
   "source": [
    "race_discriminatory_words = [\n",
    "    \"n-word\", \"nigga\", \"nigger\", \"spic\", \"chink\", \"wetback\", \"jap\", \"kike\", \"raghead\", \"gook\", \"cracker\", \"honky\", \"redneck\", \n",
    "    \"white trash\", \"hillbilly\", \"coon\", \"sambo\", \"boy\", \"mammy\", \"darkie\", \"half-breed\", \"mulatto\", \"octoroon\", \n",
    "    \"quadroon\", \"yellow\", \"curry muncher\", \"abo\", \"gyppo\", \"wog\", \"pikey\", \"gypsy\", \"tinker\", \"papist\", \n",
    "    \"heathen\", \"infidel\", \"crusader\", \"pagan\"\n",
    "]"
   ]
  },
  {
   "cell_type": "code",
   "execution_count": 4,
   "id": "910bfc01",
   "metadata": {},
   "outputs": [],
   "source": [
    "health_discriminatory_words = [\n",
    "    \"crazy\", \"lunatic\", \"psycho\", \"nutjob\", \"schizo\", \"retarded\", \"handicapped\", \"invalid\", \"cripple\", \n",
    "    \"midget\", \"dwarf\", \"giant\", \"obese\", \"anorexic\", \"bulimic\", \"cancer stick\", \"crippled\", \"spastic\", \n",
    "    \"epileptic\", \"insane\", \"mad\", \"insane asylum\", \"loony bin\", \"nut house\", \"funny farm\", \"sanitarium\", \n",
    "    \"booby hatch\", \"rubber room\", \"straightjacket\", \"mental institution\", \"mental hospital\", \"snake pit\"\n",
    "]"
   ]
  },
  {
   "cell_type": "code",
   "execution_count": 5,
   "id": "0ab8a006",
   "metadata": {},
   "outputs": [],
   "source": [
    "mental_health_discriminatory_words = [\n",
    "    \"crazy\", \"lunatic\", \"psycho\", \"nutjob\", \"schizo\", \"retarded\", \"insane\", \"mad\", \"insane asylum\", \n",
    "    \"loony bin\", \"nut house\", \"funny farm\", \"sanitarium\", \"booby hatch\", \"rubber room\", \"straightjacket\", \n",
    "    \"mental institution\", \"mental hospital\", \"snake pit\", \"depressed\", \"anxious\", \"bipolar\", \"manic\", \n",
    "    \"schizophrenic\", \"borderline\", \"narcissistic\", \"antisocial\", \"OCD\", \"PTSD\", \"ADHD\", \"autistic\", \n",
    "    \"sociopath\", \"psychopath\", \"crazy person\", \"insane person\", \"lunatic person\", \"mental patient\", \n",
    "    \"madman\", \"madwoman\", \"crazy lady\", \"crazy guy\", \"crazy person\", \"psycho killer\", \"maniac\", \"lunatic fringe\"\n",
    "]"
   ]
  },
  {
   "cell_type": "code",
   "execution_count": 6,
   "id": "869e8b6d",
   "metadata": {},
   "outputs": [],
   "source": [
    "discriminatory_words = {'sex': sex_discriminatory_words, 'gender' : gender_discriminatory_words, 'race' : race_discriminatory_words, 'health' : health_discriminatory_words, 'mental_health' : mental_health_discriminatory_words}"
   ]
  },
  {
   "cell_type": "code",
   "execution_count": 7,
   "id": "3f8db379",
   "metadata": {},
   "outputs": [],
   "source": [
    "import pandas as pd\n"
   ]
  },
  {
   "cell_type": "code",
   "execution_count": 8,
   "id": "884ef4b0",
   "metadata": {},
   "outputs": [],
   "source": [
    "df = pd.DataFrame.from_dict(discriminatory_words, orient='index')\n",
    "df = df.transpose()"
   ]
  },
  {
   "cell_type": "code",
   "execution_count": 9,
   "id": "7fb87d17",
   "metadata": {},
   "outputs": [
    {
     "data": {
      "text/html": [
       "<div>\n",
       "<style scoped>\n",
       "    .dataframe tbody tr th:only-of-type {\n",
       "        vertical-align: middle;\n",
       "    }\n",
       "\n",
       "    .dataframe tbody tr th {\n",
       "        vertical-align: top;\n",
       "    }\n",
       "\n",
       "    .dataframe thead th {\n",
       "        text-align: right;\n",
       "    }\n",
       "</style>\n",
       "<table border=\"1\" class=\"dataframe\">\n",
       "  <thead>\n",
       "    <tr style=\"text-align: right;\">\n",
       "      <th></th>\n",
       "      <th>sex</th>\n",
       "      <th>gender</th>\n",
       "      <th>race</th>\n",
       "      <th>health</th>\n",
       "      <th>mental_health</th>\n",
       "    </tr>\n",
       "  </thead>\n",
       "  <tbody>\n",
       "    <tr>\n",
       "      <th>0</th>\n",
       "      <td>bitch</td>\n",
       "      <td>fag</td>\n",
       "      <td>n-word</td>\n",
       "      <td>crazy</td>\n",
       "      <td>crazy</td>\n",
       "    </tr>\n",
       "    <tr>\n",
       "      <th>1</th>\n",
       "      <td>whore</td>\n",
       "      <td>dyke</td>\n",
       "      <td>nigga</td>\n",
       "      <td>lunatic</td>\n",
       "      <td>lunatic</td>\n",
       "    </tr>\n",
       "    <tr>\n",
       "      <th>2</th>\n",
       "      <td>slut</td>\n",
       "      <td>tranny</td>\n",
       "      <td>nigger</td>\n",
       "      <td>psycho</td>\n",
       "      <td>psycho</td>\n",
       "    </tr>\n",
       "    <tr>\n",
       "      <th>3</th>\n",
       "      <td>cunt</td>\n",
       "      <td>shemale</td>\n",
       "      <td>spic</td>\n",
       "      <td>nutjob</td>\n",
       "      <td>nutjob</td>\n",
       "    </tr>\n",
       "    <tr>\n",
       "      <th>4</th>\n",
       "      <td>ho</td>\n",
       "      <td>chick with a dick</td>\n",
       "      <td>chink</td>\n",
       "      <td>schizo</td>\n",
       "      <td>schizo</td>\n",
       "    </tr>\n",
       "    <tr>\n",
       "      <th>...</th>\n",
       "      <td>...</td>\n",
       "      <td>...</td>\n",
       "      <td>...</td>\n",
       "      <td>...</td>\n",
       "      <td>...</td>\n",
       "    </tr>\n",
       "    <tr>\n",
       "      <th>68</th>\n",
       "      <td>manspread</td>\n",
       "      <td>None</td>\n",
       "      <td>None</td>\n",
       "      <td>None</td>\n",
       "      <td>None</td>\n",
       "    </tr>\n",
       "    <tr>\n",
       "      <th>69</th>\n",
       "      <td>bro</td>\n",
       "      <td>None</td>\n",
       "      <td>None</td>\n",
       "      <td>None</td>\n",
       "      <td>None</td>\n",
       "    </tr>\n",
       "    <tr>\n",
       "      <th>70</th>\n",
       "      <td>dude</td>\n",
       "      <td>None</td>\n",
       "      <td>None</td>\n",
       "      <td>None</td>\n",
       "      <td>None</td>\n",
       "    </tr>\n",
       "    <tr>\n",
       "      <th>71</th>\n",
       "      <td>guy</td>\n",
       "      <td>None</td>\n",
       "      <td>None</td>\n",
       "      <td>None</td>\n",
       "      <td>None</td>\n",
       "    </tr>\n",
       "    <tr>\n",
       "      <th>72</th>\n",
       "      <td>man</td>\n",
       "      <td>None</td>\n",
       "      <td>None</td>\n",
       "      <td>None</td>\n",
       "      <td>None</td>\n",
       "    </tr>\n",
       "  </tbody>\n",
       "</table>\n",
       "<p>73 rows × 5 columns</p>\n",
       "</div>"
      ],
      "text/plain": [
       "          sex             gender    race   health mental_health\n",
       "0       bitch                fag  n-word    crazy         crazy\n",
       "1       whore               dyke   nigga  lunatic       lunatic\n",
       "2        slut             tranny  nigger   psycho        psycho\n",
       "3        cunt            shemale    spic   nutjob        nutjob\n",
       "4          ho  chick with a dick   chink   schizo        schizo\n",
       "..        ...                ...     ...      ...           ...\n",
       "68  manspread               None    None     None          None\n",
       "69        bro               None    None     None          None\n",
       "70       dude               None    None     None          None\n",
       "71        guy               None    None     None          None\n",
       "72        man               None    None     None          None\n",
       "\n",
       "[73 rows x 5 columns]"
      ]
     },
     "execution_count": 9,
     "metadata": {},
     "output_type": "execute_result"
    }
   ],
   "source": [
    "df"
   ]
  },
  {
   "cell_type": "code",
   "execution_count": 10,
   "id": "ee0b7d29",
   "metadata": {},
   "outputs": [],
   "source": [
    "df.to_csv('Data/discriminatory_words.csv', index=False)"
   ]
  },
  {
   "cell_type": "code",
   "execution_count": null,
   "id": "7e3ff96b",
   "metadata": {},
   "outputs": [],
   "source": []
  }
 ],
 "metadata": {
  "kernelspec": {
   "display_name": "Python 3 (ipykernel)",
   "language": "python",
   "name": "python3"
  },
  "language_info": {
   "codemirror_mode": {
    "name": "ipython",
    "version": 3
   },
   "file_extension": ".py",
   "mimetype": "text/x-python",
   "name": "python",
   "nbconvert_exporter": "python",
   "pygments_lexer": "ipython3",
   "version": "3.9.13"
  }
 },
 "nbformat": 4,
 "nbformat_minor": 5
}
